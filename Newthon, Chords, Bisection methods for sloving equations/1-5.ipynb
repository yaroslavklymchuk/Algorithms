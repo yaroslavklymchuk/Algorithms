{
 "cells": [
  {
   "cell_type": "code",
   "execution_count": 4,
   "metadata": {},
   "outputs": [],
   "source": [
    "import numpy as np\n",
    "import math\n",
    "from scipy.misc import derivative as deriv\n",
    "#import matplotlib.pyplot as plt"
   ]
  },
  {
   "cell_type": "code",
   "execution_count": 22,
   "metadata": {},
   "outputs": [],
   "source": [
    "class Polinom:\n",
    "    def __init__(self, vect):\n",
    "        self.coef = vect\n",
    "    \n",
    "    def value_pol(self, x):\n",
    "        polinom = 0\n",
    "        for i in range(0, len(self.coef)):\n",
    "            polinom += self.coef[i] * pow(x,i)\n",
    "        return polinom\n",
    "        \n",
    "    #works(don't forget to change in lab1-5.py!!!)\n",
    "    def Bisection(self, left, right, eps):\n",
    "        number_iter = 0\n",
    "        x_mean = (left + right) / 2\n",
    "        interval_result = []\n",
    "\n",
    "        while not((math.fabs(left - right) < eps) and (math.fabs(self.value_pol(x_mean) < eps))):\n",
    "            x_mean = (left + right) / 2\n",
    "            interval_result.append(left)\n",
    "            interval_result.append(right)\n",
    "            interval_result.append(self.value_pol(left))\n",
    "            interval_result.append(self.value_pol(right))\n",
    "\n",
    "            if (self.value_pol(left) * self.value_pol(x_mean) < 0):\n",
    "                left = left\n",
    "                right = x_mean\n",
    "            else:\n",
    "                left = x_mean\n",
    "                right = right\n",
    "            number_iter += 1\n",
    "            \n",
    "        return [x_mean,number_iter], interval_result\n",
    "        \n",
    "    \n",
    "    def derivative(self, x):\n",
    "        derivative = 0\n",
    "        for i in range(1, len(self.coef)):\n",
    "            derivative += self.coef[i] * i * pow(x, i-1)\n",
    "        return derivative\n",
    "    \n",
    "    #works(don't forget to change in lab1-5.py!!!)\n",
    "    def newton(self, left, right, eps):\n",
    "        x0 = (left + right) / 2\n",
    "        x1 = x0 - (self.value_pol(x0) / self.derivative(x0))\n",
    "        number_iter = 0\n",
    "        inter_result = []\n",
    "        while not(math.fabs(self.value_pol(x1)) < eps and math.fabs(x1 - x0) < eps):\n",
    "            inter_result.append(x1)\n",
    "            inter_result.append(self.value_pol(x1))\n",
    "            x0 = x1\n",
    "            x1 = x0 - (self.value_pol(x0) / self.derivative(x0))\n",
    "            number_iter += 1\n",
    "        return [x1, number_iter], inter_result\n",
    "            \n",
    "    def chords_method(self, left, right, eps):\n",
    "        val = left\n",
    "        val1 = right\n",
    "        x0 = val\n",
    "        x1 = val1\n",
    "        number_iter = 0\n",
    "        inter_result = []\n",
    "        while not(math.fabs(x1 - x0) < eps and math.fabs(self.value_pol(x1)) < eps):\n",
    "            inter_result.append(x0)\n",
    "            inter_result.append(x1)\n",
    "            inter_result.append(self.value_pol(x0)) \n",
    "            inter_result.append(self.value_pol(x1))\n",
    "            x0 = x1\n",
    "            x1 = (val * self.value_pol(val1) - val1 * self.value_pol(val)) / (self.value_pol(val1) - self.value_pol(val))\n",
    "            if (self.value_pol(val) * self.value_pol(x1) > 0):\n",
    "                val = x1\n",
    "            else:\n",
    "                val1 = x1\n",
    "            number_iter += 1\n",
    "        return [x1, number_iter], inter_result\n",
    "\n",
    "if __name__ == 'main':\n",
    "    pol = Polinom([3,0,0,-1,-3,2])\n",
    "    \n",
    "    f = open(\"Result.txt\", 'w')\n",
    "    f.write(\"Main Results: \", '\\n')\n",
    "    f.write('Bisection: ', x_mean, number_iter)\n"
   ]
  },
  {
   "cell_type": "code",
   "execution_count": 23,
   "metadata": {},
   "outputs": [
    {
     "data": {
      "text/plain": [
       "[3, 0, 0, -1, -3, 2]"
      ]
     },
     "execution_count": 23,
     "metadata": {},
     "output_type": "execute_result"
    }
   ],
   "source": [
    "pol = Polinom([3,0,0,-1,-3,2])\n",
    "pol.coef"
   ]
  },
  {
   "cell_type": "code",
   "execution_count": 24,
   "metadata": {},
   "outputs": [
    {
     "name": "stdout",
     "output_type": "stream",
     "text": [
      "([1.2064933776855469, 17], [1, 1.5, 1, -0.375, 1, 1.25, 1, -0.173828125, 1.125, 1.25, 0.37481689453125, -0.173828125, 1.1875, 1.25, 0.08260154724121094, -0.173828125, 1.1875, 1.21875, 0.08260154724121094, -0.051298677921295166, 1.203125, 1.21875, 0.014389628544449806, -0.051298677921295166, 1.203125, 1.2109375, 0.014389628544449806, -0.01878940808819607, 1.203125, 1.20703125, 0.014389628544449806, -0.002281150014823652, 1.205078125, 1.20703125, 0.006034229002182201, -0.002281150014823652, 1.2060546875, 1.20703125, 0.0018714989519192926, -0.002281150014823652, 1.2060546875, 1.20654296875, 0.0018714989519192926, -0.00020609042471519956, 1.206298828125, 1.20654296875, 0.0008323886354970611, -0.00020609042471519956, 1.2064208984375, 1.20654296875, 0.0003130701239948408, -0.00020609042471519956, 1.20648193359375, 1.20654296875, 5.3470094990792916e-05, -0.00020609042471519956, 1.20648193359375, 1.206512451171875, 5.3470094990792916e-05, -7.631510468630864e-05, 1.20648193359375, 1.2064971923828125, 5.3470094990792916e-05, -1.1423739658233956e-05, 1.2064895629882812, 1.2064971923828125, 2.102286898253425e-05, -1.1423739658233956e-05])\n"
     ]
    }
   ],
   "source": [
    "print(pol.Bisection(1, 1.5, 1e-5))"
   ]
  },
  {
   "cell_type": "code",
   "execution_count": 25,
   "metadata": {},
   "outputs": [
    {
     "data": {
      "text/plain": [
       "1.2064933776855469"
      ]
     },
     "execution_count": 25,
     "metadata": {},
     "output_type": "execute_result"
    }
   ],
   "source": [
    "list(pol.Bisection(1,1.5,1e-5))[0][0]"
   ]
  },
  {
   "cell_type": "code",
   "execution_count": 11,
   "metadata": {},
   "outputs": [],
   "source": [
    "f = open('res.txt', 'w')\n",
    "f.write(str(list(pol.Bisection(1,1.5,1e-5))[0][0]))\n",
    "f.close()"
   ]
  },
  {
   "cell_type": "code",
   "execution_count": 26,
   "metadata": {},
   "outputs": [
    {
     "name": "stdout",
     "output_type": "stream",
     "text": [
      "([1.5727558135986328, 18], [1.5, 2, -0.375, 11, 1.5, 1.75, -0.375, 2.330078125, 1.5, 1.625, -0.375, 0.45220947265625, 1.5625, 1.625, -0.06963920593261719, 0.45220947265625, 1.5625, 1.59375, -0.06963920593261719, 0.1615249514579773, 1.5625, 1.578125, -0.06963920593261719, 0.038851598277688026, 1.5703125, 1.578125, -0.017124032077845186, 0.038851598277688026, 1.5703125, 1.57421875, -0.017124032077845186, 0.010425946797113284, 1.572265625, 1.57421875, -0.0034578390356614364, 0.010425946797113284, 1.572265625, 1.5732421875, -0.0034578390356614364, 0.0034567721206073543, 1.57275390625, 1.5732421875, -7.343554045746714e-06, 0.0034567721206073543, 1.57275390625, 1.572998046875, -7.343554045746714e-06, 0.0017230104668897184, 1.57275390625, 1.5728759765625, -7.343554045746714e-06, 0.0008574076639007444, 1.57275390625, 1.57281494140625, -7.343554045746714e-06, 0.00042492562698726033, 1.57275390625, 1.572784423828125, -7.343554045746714e-06, 0.00020876443201345296, 1.57275390625, 1.5727691650390625, -7.343554045746714e-06, 0.0001007037881848305, 1.57275390625, 1.5727615356445312, -7.343554045746714e-06, 4.6678454410198356e-05, 1.57275390625, 1.5727577209472656, -7.343554045746714e-06, 1.966703452183083e-05])\n"
     ]
    }
   ],
   "source": [
    "print(pol.Bisection(1.5,2,1e-5))"
   ]
  },
  {
   "cell_type": "code",
   "execution_count": 27,
   "metadata": {},
   "outputs": [
    {
     "name": "stdout",
     "output_type": "stream",
     "text": [
      "([-0.9413537979125977, 18], [-1.5, -0.75, -24.0, 1.998046875, -1.125, -0.75, -3.98565673828125, 1.998046875, -1.125, -0.9375, -3.98565673828125, 0.05815315246582031, -1.03125, -0.9375, -1.628888189792633, 0.05815315246582031, -0.984375, -0.9375, -0.7115524392575026, 0.05815315246582031, -0.9609375, -0.9375, -0.30940060381544754, 0.05815315246582031, -0.94921875, -0.9375, -0.12143826677311154, 0.05815315246582031, -0.943359375, -0.9375, -0.030613294385318568, 0.05815315246582031, -0.943359375, -0.9404296875, -0.030613294385318568, 0.014025126268416344, -0.94189453125, -0.9404296875, -0.00823002080153623, 0.014025126268416344, -0.94189453125, -0.941162109375, -0.00823002080153623, 0.0029135355003717667, -0.9415283203125, -0.941162109375, -0.0026542428312872346, 0.0029135355003717667, -0.9415283203125, -0.94134521484375, -0.0026542428312872346, 0.0001306457732117572, -0.941436767578125, -0.94134521484375, -0.00126154860486416, 0.0001306457732117572, -0.9413909912109375, -0.94134521484375, -0.0005653889428471892, 0.0001306457732117572, -0.9413681030273438, -0.94134521484375, -0.00021735596758087894, 0.0001306457732117572, -0.9413566589355469, -0.94134521484375, -4.3351193001139876e-05, 0.0001306457732117572, -0.9413566589355469, -0.9413509368896484, -4.3351193001139876e-05, 4.364826613545425e-05])\n"
     ]
    }
   ],
   "source": [
    "print(pol.Bisection(-1.5, -0.75, 1e-5))"
   ]
  },
  {
   "cell_type": "code",
   "execution_count": 7,
   "metadata": {},
   "outputs": [
    {
     "data": {
      "text/plain": [
       "(1.2064952850341797, 17)"
      ]
     },
     "execution_count": 7,
     "metadata": {},
     "output_type": "execute_result"
    }
   ],
   "source": [
    "pol.bisection(1, 1.5, 1e-5)"
   ]
  },
  {
   "cell_type": "code",
   "execution_count": 8,
   "metadata": {},
   "outputs": [
    {
     "data": {
      "text/plain": [
       "(1.572998046875, 10)"
      ]
     },
     "execution_count": 8,
     "metadata": {},
     "output_type": "execute_result"
    }
   ],
   "source": [
    "pol.bisection(1.5, 2, 1e-5)"
   ]
  },
  {
   "cell_type": "code",
   "execution_count": 16,
   "metadata": {},
   "outputs": [
    {
     "data": {
      "text/plain": [
       "([-0.9413538076980524, 4],\n",
       " [-0.9890038486529715,\n",
       "  -0.7952641335010637,\n",
       "  -0.9454072964073716,\n",
       "  -0.062121961464129294,\n",
       "  -0.9413857579754438,\n",
       "  -0.0004858106942700058,\n",
       "  -0.9413538096993872,\n",
       "  -3.042881080439486e-08])"
      ]
     },
     "execution_count": 16,
     "metadata": {},
     "output_type": "execute_result"
    }
   ],
   "source": [
    "pol.newton(-1.5, -0.75, 1e-5)"
   ]
  },
  {
   "cell_type": "code",
   "execution_count": 186,
   "metadata": {},
   "outputs": [
    {
     "data": {
      "text/plain": [
       "(1.2064945062236794,\n",
       " 3,\n",
       " [1.2031578947368422,\n",
       "  0.014248578006013979,\n",
       "  1.2064809717603988,\n",
       "  5.75607418067392e-05,\n",
       "  1.2064945059952719,\n",
       "  9.713785331655345e-10])"
      ]
     },
     "execution_count": 186,
     "metadata": {},
     "output_type": "execute_result"
    }
   ],
   "source": [
    "pol.newton(1,1.5,1e-5)"
   ]
  },
  {
   "cell_type": "code",
   "execution_count": 169,
   "metadata": {},
   "outputs": [
    {
     "data": {
      "text/plain": [
       "(-0.9413538076980524, 5)"
      ]
     },
     "execution_count": 169,
     "metadata": {},
     "output_type": "execute_result"
    }
   ],
   "source": [
    "pol.newton(-1.5,-0.75,1e-5)"
   ]
  },
  {
   "cell_type": "code",
   "execution_count": 11,
   "metadata": {},
   "outputs": [
    {
     "data": {
      "text/plain": [
       "(1.2064945062236794, 4)"
      ]
     },
     "execution_count": 11,
     "metadata": {},
     "output_type": "execute_result"
    }
   ],
   "source": [
    "pol.newton(1,1.5,1e-5)"
   ]
  },
  {
   "cell_type": "code",
   "execution_count": 12,
   "metadata": {},
   "outputs": [
    {
     "data": {
      "text/plain": [
       "(1.572754943393507, 5)"
      ]
     },
     "execution_count": 12,
     "metadata": {},
     "output_type": "execute_result"
    }
   ],
   "source": [
    "pol.newton(1.5,2,1e-5)"
   ]
  },
  {
   "cell_type": "code",
   "execution_count": 28,
   "metadata": {},
   "outputs": [
    {
     "name": "stdout",
     "output_type": "stream",
     "text": [
      "([1.2064958160150578, 7], [1, 1.5, 1, -0.375, 1.5, 1.3636363636363635, -0.375, -0.4787117124389173, 1.3636363636363635, 1.2459143053899255, -0.4787117124389173, -0.15854742487296392, 1.2459143053899255, 1.2122608881694164, -0.15854742487296392, -0.02434447437795928, 1.2122608881694164, 1.2072163158768572, -0.02434447437795928, -0.003066965457591664, 1.2072163158768572, 1.206582733768255, -0.003066965457591664, -0.0003751754498839688, 1.206582733768255, 1.2065052580651572, -0.0003751754498839688, -4.5725140012997656e-05])\n"
     ]
    }
   ],
   "source": [
    "print(pol.chords_method(1, 1.5, 1e-5))"
   ]
  },
  {
   "cell_type": "code",
   "execution_count": 29,
   "metadata": {},
   "outputs": [
    {
     "name": "stdout",
     "output_type": "stream",
     "text": [
      "([-0.9413533067739055, 30], [-1.5, -0.75, -24.0, 1.998046875, -0.75, -0.8076402974983097, 1.998046875, 1.563133019504154, -0.8076402974983097, -0.8499766696295633, 1.563133019504154, 1.1609387632029777, -0.8499766696295633, -0.8799690832002751, 1.1609387632029777, 0.8272884704771317, -0.8799690832002751, -0.9006295926803068, 0.8272884704771317, 0.5716009809813076, -0.9006295926803068, -0.9145725471121438, 0.5716009809813076, 0.3863401407605027, -0.9145725471121438, -0.9238471706615676, 0.3863401407605027, 0.25718831890915816, -0.9238471706615676, -0.9299558661816001, 0.25718831890915816, 0.16946579722485478, -0.9299558661816001, -0.9339527680743172, 0.16946579722485478, 0.11090577594492612, -0.9339527680743172, -0.9365564822633058, 0.11090577594492612, 0.07225680039184512, -0.9365564822633058, -0.9382477497722382, 0.07225680039184512, 0.04693854852738566, -0.9382477497722382, -0.9393442650398459, 0.04693854852738566, 0.03043345118204832, -0.9393442650398459, -0.9400543100323555, 0.03043345118204832, 0.019707619097399487, -0.9400543100323555, -0.9405137326260069, 0.019707619097399487, 0.012751696995318973, -0.9405137326260069, -0.9408108414057343, 0.012751696995318973, 0.00824661571142582, -0.9408108414057343, -0.9410029178274213, 0.00824661571142582, 0.005331351019257635, -0.9410029178274213, -0.9411270656519285, 0.005331351019257635, 0.0034459123113568246, -0.9411270656519285, -0.9412072969292204, 0.0034459123113568246, 0.002226947739299545, -0.9412072969292204, -0.9412591422079754, 0.002226947739299545, 0.0014390514190978365, -0.9412591422079754, -0.9412926425669577, 0.0014390514190978365, 0.0009298589189727924, -0.9412926425669577, -0.9413142883541192, 0.0009298589189727924, 0.0006008157484294063, -0.9413142883541192, -0.9413282741362483, 0.0006008157484294063, 0.0003881994282359802, -0.9413282741362483, -0.9413373104919418, 0.0003881994282359802, 0.00025081966604489914, -0.9413373104919418, -0.9413431489138094, 0.00025081966604489914, 0.00016205551955361663, -0.9413431489138094, -0.9413469211144323, 0.00016205551955361663, 0.00010470398077688792, -0.9413469211144323, -0.9413493583205176, 0.00010470398077688792, 6.764889410026953e-05, -0.9413493583205176, -0.9413509329868333, 6.764889410026953e-05, 4.3707604875597994e-05, -0.9413509329868333, -0.9413519503688423, 4.3707604875597994e-05, 2.823920977790273e-05, -0.9413519503688423, -0.9413526076922133, 2.823920977790273e-05, 1.8245155525065115e-05, -0.9413526076922133, -0.9413530323839138, 1.8245155525065115e-05, 1.1788058322359518e-05])\n"
     ]
    }
   ],
   "source": [
    "print(pol.chords_method(-1.5, -0.75, 1e-5))"
   ]
  },
  {
   "cell_type": "code",
   "execution_count": 13,
   "metadata": {},
   "outputs": [
    {
     "data": {
      "text/plain": [
       "(-0.9413591114804272, 6)"
      ]
     },
     "execution_count": 13,
     "metadata": {},
     "output_type": "execute_result"
    }
   ],
   "source": [
    "pol.chords_method(-1.5, -0.75, 1e-5)"
   ]
  },
  {
   "cell_type": "code",
   "execution_count": 14,
   "metadata": {},
   "outputs": [
    {
     "data": {
      "text/plain": [
       "(1.2064944272202631, 5)"
      ]
     },
     "execution_count": 14,
     "metadata": {},
     "output_type": "execute_result"
    }
   ],
   "source": [
    "pol.chords_method(1,1.5,1e-5)"
   ]
  },
  {
   "cell_type": "code",
   "execution_count": 15,
   "metadata": {},
   "outputs": [
    {
     "data": {
      "text/plain": [
       "(1.5727553855862404, 5)"
      ]
     },
     "execution_count": 15,
     "metadata": {},
     "output_type": "execute_result"
    }
   ],
   "source": [
    "pol.chords_method(1.5,2,1e-5)"
   ]
  },
  {
   "cell_type": "code",
   "execution_count": 39,
   "metadata": {},
   "outputs": [],
   "source": [
    "pol1 = Polinom([-3, 0, 9/50, 28/25])\n",
    "pol2 = Polinom([28975/784, -375/14, 1275/1568])\n",
    "pol3 = Polinom([-36588592/21675, -25367552/21675])"
   ]
  },
  {
   "cell_type": "code",
   "execution_count": 83,
   "metadata": {},
   "outputs": [
    {
     "data": {
      "text/plain": [
       "23.768335459183678"
      ]
     },
     "execution_count": 83,
     "metadata": {},
     "output_type": "execute_result"
    }
   ],
   "source": [
    "pol2.value_pol(0.5)"
   ]
  },
  {
   "cell_type": "code",
   "execution_count": 56,
   "metadata": {},
   "outputs": [
    {
     "data": {
      "text/plain": [
       "([1.5727549433935073, 4],\n",
       " [1.6351559491721217,\n",
       "  0.5604479191909775,\n",
       "  1.5842232634143272,\n",
       "  0.0850043779857188,\n",
       "  1.5732514524167704,\n",
       "  0.003522633960017174,\n",
       "  1.5727559349223545,\n",
       "  7.020689217540621e-06])"
      ]
     },
     "execution_count": 56,
     "metadata": {},
     "output_type": "execute_result"
    }
   ],
   "source": [
    "pol.newton(1.5,2,1e-5)"
   ]
  },
  {
   "cell_type": "code",
   "execution_count": 61,
   "metadata": {},
   "outputs": [
    {
     "data": {
      "text/plain": [
       "([1.2064945062235568, 2],\n",
       " [1.2069952973007796,\n",
       "  -0.0021284475230274325,\n",
       "  1.2064941922829258,\n",
       "  1.3351371537240198e-06])"
      ]
     },
     "execution_count": 61,
     "metadata": {},
     "output_type": "execute_result"
    }
   ],
   "source": [
    "pol.newton(0.5,1.4,1e-5)"
   ]
  },
  {
   "cell_type": "code",
   "execution_count": 62,
   "metadata": {},
   "outputs": [
    {
     "data": {
      "text/plain": [
       "([1.2064945062459673, 5],\n",
       " [0.5,\n",
       "  1.4,\n",
       "  2.75,\n",
       "  -0.5123200000000008,\n",
       "  1.4,\n",
       "  1.258662546899139,\n",
       "  -0.5123200000000008,\n",
       "  -0.20542498052810299,\n",
       "  1.258662546899139,\n",
       "  1.2059296100284802,\n",
       "  -0.20542498052810299,\n",
       "  0.0024040973263286247,\n",
       "  1.2059296100284802,\n",
       "  1.206539607021437,\n",
       "  0.0024040973263286247,\n",
       "  -0.00019179523329704296,\n",
       "  1.206539607021437,\n",
       "  1.2064945379313696,\n",
       "  -0.00019179523329704296,\n",
       "  -1.348474079065909e-07])"
      ]
     },
     "execution_count": 62,
     "metadata": {},
     "output_type": "execute_result"
    }
   ],
   "source": [
    "pol.chords_method(0.5,1.4,1e-5)"
   ]
  },
  {
   "cell_type": "code",
   "execution_count": null,
   "metadata": {},
   "outputs": [],
   "source": []
  },
  {
   "cell_type": "code",
   "execution_count": 34,
   "metadata": {},
   "outputs": [
    {
     "data": {
      "image/png": "[encoded data removed]",
      "text/plain": [
       "<matplotlib.figure.Figure at 0x7fe332ae3048>"
      ]
     },
     "metadata": {},
     "output_type": "display_data"
    }
   ],
   "source": [
    "x = np.linspace(-5, 5, 50)\n",
    "y = 2 * np.power(x, 5) - 3 * np.power(x, 4) - np.power(x, 3) + 3\n",
    "\n",
    "plt.plot(x, y)\n",
    "plt.show()\n",
    "\n"
   ]
  },
  {
   "cell_type": "code",
   "execution_count": null,
   "metadata": {},
   "outputs": [],
   "source": []
  }
 ],
 "metadata": {
  "kernelspec": {
   "display_name": "Python 3",
   "language": "python",
   "name": "python3"
  },
  "language_info": {
   "codemirror_mode": {
    "name": "ipython",
    "version": 3
   },
   "file_extension": ".py",
   "mimetype": "text/x-python",
   "name": "python",
   "nbconvert_exporter": "python",
   "pygments_lexer": "ipython3",
   "version": "3.5.2"
  }
 },
 "nbformat": 4,
 "nbformat_minor": 1
}
